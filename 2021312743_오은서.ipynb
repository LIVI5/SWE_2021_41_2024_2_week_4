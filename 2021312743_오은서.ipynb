{
  "nbformat": 4,
  "nbformat_minor": 0,
  "metadata": {
    "colab": {
      "provenance": [],
      "toc_visible": true
    },
    "kernelspec": {
      "name": "python3",
      "display_name": "Python 3"
    },
    "language_info": {
      "name": "python"
    }
  },
  "cells": [
    {
      "cell_type": "markdown",
      "source": [
        "## Task\n",
        "- Complete **isHappy** function following the description below\n",
        "\n",
        "### Happy Number\n",
        "Write an algorithm to determine if a number **n** is happy.\n",
        "\n",
        "A **happy number** is a number defined by the following process:\n",
        "\n",
        "* Starting with any positive integer, replace the number by the sum of the squares of its digits.\n",
        "* Repeat the process until the number equals 1 (where it will stay), or it **loops endlessly in a cycle** which does not include 1.\n",
        "* Those numbers for which this process **ends in 1** are happy.\n",
        "\n",
        "Return **true** if n is a happy number, and **false** if not.\n",
        "\n",
        "Constraints:\n",
        "1 <= n <= $2^{31}$ - 1"
      ],
      "metadata": {
        "id": "TV3Socqg8BVl"
      }
    },
    {
      "cell_type": "code",
      "execution_count": 59,
      "metadata": {
        "id": "5FcxitVf5kdQ",
        "colab": {
          "base_uri": "https://localhost:8080/"
        },
        "outputId": "238f00e6-25a0-4224-ceb8-ed9661571fbc"
      },
      "outputs": [
        {
          "output_type": "execute_result",
          "data": {
            "text/plain": [
              "True"
            ]
          },
          "metadata": {},
          "execution_count": 59
        }
      ],
      "source": [
        "def isHappy(n):\n",
        "  input_num = n\n",
        "  val=0\n",
        "  str_num = str(n)  # str으로 변환하여 각 자리수에 접근\n",
        "  len_num = len(str_num)\n",
        "\n",
        "  for x in range(len_num) : # 각 자리의 수의 제곱을\n",
        "    val += (int(str_num[x])) ** 2\n",
        "\n",
        "  \"\"\"\n",
        "  print(val)\n",
        "  if val >= 10 :\n",
        "    return isHappy(val)\n",
        "  else :\n",
        "    if val == 1 :\n",
        "      return True\n",
        "    else :\n",
        "      return False\n",
        "  \"\"\"\n",
        "# 위 코드로 임의의 값 n을 넣었을 때 val가 4가 되는 순간부터 반복이 멈추고 False가 나왔다.\n",
        "# n에 4를 넣으면 (4, 16, ... ,20, 4, 16, ... ,20) 과 같이 반복이 된다.\n",
        "# -> happy number가 아니라면 val가 4가 나오는 순간이 생겨 loop에서 빠져나오지 못한다.\n",
        "# -> val==4 가 되는 순간이 나온다면 'un'happy number이어서 False를 반환하고\n",
        "# -> 그렇지 않다면 happy number이므로 loop를 빠져나와 True를 반환다.\n",
        "\n",
        "  if val == 4 :\n",
        "    return False\n",
        "  elif val == 1 :\n",
        "    return True\n",
        "  else :\n",
        "    return isHappy(val)\n",
        "\n"
      ]
    },
    {
      "cell_type": "markdown",
      "source": [
        "**Testcase 1.**\n",
        "\n",
        "**Input**: 19\n",
        "\n",
        "**Output**: True\n",
        "\n",
        "**Explanation**:\n",
        "\n",
        "$1^2 + 9^2 = 82$\n",
        "\n",
        "$8^2 + 2^2 = 68$\n",
        "\n",
        "$6^2 + 8^2 = 100$\n",
        "\n",
        "$1^2 + 0^2 + 0^2 = 1$"
      ],
      "metadata": {
        "id": "eRrh24Ognrqf"
      }
    },
    {
      "cell_type": "markdown",
      "source": [
        "**Testcase 2.**\n",
        "\n",
        "**Input**: 2\n",
        "\n",
        "**Output**: False"
      ],
      "metadata": {
        "id": "dE7YMY8qoPoj"
      }
    }
  ]
}